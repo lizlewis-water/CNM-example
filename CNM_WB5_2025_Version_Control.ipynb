{
  "nbformat": 4,
  "nbformat_minor": 0,
  "metadata": {
    "colab": {
      "provenance": [],
      "generative_ai_disabled": true,
      "authorship_tag": "ABX9TyNqwp0DzjqNQkbYScJmT7Bz",
      "include_colab_link": true
    },
    "kernelspec": {
      "name": "python3",
      "display_name": "Python 3"
    },
    "language_info": {
      "name": "python"
    }
  },
  "cells": [
    {
      "cell_type": "markdown",
      "metadata": {
        "id": "view-in-github",
        "colab_type": "text"
      },
      "source": [
        "<a href=\"https://colab.research.google.com/github/lizlewis-water/CNM-example/blob/main/CNM_WB5_2025_Version_Control.ipynb\" target=\"_parent\"><img src=\"https://colab.research.google.com/assets/colab-badge.svg\" alt=\"Open In Colab\"/></a>"
      ]
    },
    {
      "cell_type": "markdown",
      "source": [
        "# Python Lab 5: Version Control\n",
        "\n",
        "In this session we will be learning about version control of our code and how to implement that in GitHub.\n",
        "\n",
        "As you have probably already experienced, writing code invloved making many many tiny changes over time, testing out different ideas and doing little checks to see how things work. Often, you will want to go back to a version of your code that you wrote before you made some change that didn't work. We've seen that it is quite easy to make a mistake with your code, or that it is quite easy to break your code. When you start writing longer pieces of code, this becomes more of a problem as there is much more code to wade through to find and trace the error.\n",
        "\n",
        "The solution to this problem is to regularly track your changes. We've seen that code can be written in all sorts of places, we have been using jupyter notebooks on colab, but the same code could be run from a text file on a local machine. We therefore can't rely on a track changes function bespoke to a piece of software like in word documents. We need somewhere to save versions of our code with annotations. We do this using software called Git.\n",
        "\n"
      ],
      "metadata": {
        "id": "7qrrnGYkpVWg"
      }
    },
    {
      "cell_type": "markdown",
      "source": [
        "## Introduction to Git\n",
        "\n",
        "### What is Git?\n",
        "\n",
        "Git is a version control system- a tool that helps you keep track of changes in your code and collaborate with others. Think of it like the version history in Word or Google Docs, but much more powerful. With Git, every change you make to a file can be saved with a commit message (a note describing what you changed). You can then go back to any previous version of your project if something breaks, or see exactly who changed what and when.\n",
        "\n",
        "### Why is Git Important for Engineers?\n",
        "\n",
        "In civil engineering projects, we never just have one drawing or one report — we have revisions, updates, and collaboration between many people. Git provides the same for coding projects. Instead of naming files `beam_analysis_v3_FINAL_revised2.py`, Git keeps a clean history of changes inside the project itself. This makes your work:\n",
        "\n",
        "* Safer → you can always recover an older version.\n",
        "* Collaborative → multiple people can work on the same project without overwriting each other.\n",
        "* Documented → changes are recorded with dates and explanations.\n",
        "\n",
        "### Git vs GitHub\n",
        "\n",
        "It’s important to distinguish between Git and GitHub:\n",
        "\n",
        "* Git is the tool on your computer that manages version history.\n",
        "* GitHub is an online platform that stores Git repositories in the cloud, making it easy to share your work and collaborate with others.\n",
        "\n",
        "You can use Git without GitHub, but GitHub makes it much easier to work in teams and to showcase your projects publicly.\n",
        "\n",
        "### Core Concepts in Git\n",
        "\n",
        "* **Repository (repo):** The project folder that Git is tracking.\n",
        "* **Commit:** A snapshot of your project at a specific moment, with a message describing the change made to the previous version.\n",
        "* **Branch:** A separate line of development, useful when testing new ideas without disturbing the main project.\n",
        "* **Merge:** Bringing changes from one branch back into another.\n",
        "* **Remote:** A version of your repository hosted online (e.g., on GitHub).\n",
        "\n",
        "Git is like an engineer’s lab book for coding projects. Every calculation, assumption, and change is stored, so the work can be trusted, checked, and reused.\n",
        "\n"
      ],
      "metadata": {
        "id": "C7XyS506API-"
      }
    },
    {
      "cell_type": "markdown",
      "source": [
        "## Open Source Software\n",
        "\n",
        "Open source software is software whose source code is freely available for anyone to use, modify, and share. This is very common in engineering and science: many of the tools we use daily (NumPy, Pandas, OpenSees for structural analysis, QGIS for mapping) are open source. The open source model encourages transparency, collaboration, and innovation, since engineers and researchers worldwide can improve the code, fix errors, and adapt it for their own projects. For civil engineers, this means you don’t always need expensive licenses — you can access powerful tools, learn from the code, and even contribute improvements back to the community.\n",
        "\n",
        "## Sharing on GitHub\n",
        "\n",
        "GitHub is the most widely used platform for sharing code. It allows you to keep your projects under version control (using Git), track changes, and collaborate with others. Sharing code on GitHub is a great way to:\n",
        "\n",
        "* Document your work like an engineer’s lab book, with a clear history of changes.\n",
        "\n",
        "* Make your assignments, analysis scripts, or design tools visible to others (classmates, future employers, or collaborators).\n",
        "\n",
        "* Reuse your own code across different projects without starting from scratch.\n",
        "\n",
        "* Publishing your projects openly on GitHub also turns your coursework into a portfolio, demonstrating both technical and professional skills.\n",
        "\n",
        "## FAIR Principles of Code\n",
        "\n",
        "FAIR stands for Findable, Accessible, Interoperable, Reusable. These principles were originally developed for research data, but they apply equally well to code:\n",
        "\n",
        "* Findable → Your code should be easy to discover (e.g., hosted on GitHub with clear repository names and keywords).\n",
        "\n",
        "* Accessible → Others should be able to access the code (e.g., a public repository with open licensing).\n",
        "\n",
        "* Interoperable → Code should use standard formats, libraries, and clear documentation so others can integrate it into their own workflows.\n",
        "\n",
        "* Reusable → Your code should be well-documented, licensed, and tested so that others can reuse it confidently in new projects.\n",
        "\n",
        "By following the FAIR principles, you ensure that your computational tools are not just one-off scripts for an assignment, but part of a larger ecosystem of reproducible and shareable knowledge."
      ],
      "metadata": {
        "id": "NAte-vJz_eOH"
      }
    },
    {
      "cell_type": "markdown",
      "metadata": {
        "id": "-pVhOfzLx9us"
      },
      "source": [
        "# Using Google Colab with GitHub\n",
        "\n"
      ]
    },
    {
      "cell_type": "markdown",
      "metadata": {
        "id": "wKJ4bd5rt1wy"
      },
      "source": [
        "\n",
        "[Google Colaboratory](http://colab.research.google.com) is designed to integrate cleanly with GitHub, allowing both loading notebooks from github and saving notebooks to github."
      ]
    },
    {
      "cell_type": "markdown",
      "metadata": {
        "id": "Rmai0dD30XzL"
      },
      "source": [
        "## Loading Private Notebooks\n",
        "\n",
        "Loading a notebook from a private GitHub repository is possible, but requires an additional step to allow Colab to access your files.\n",
        "Do the following:\n",
        "\n",
        "1. Navigate to http://colab.research.google.com/github.\n",
        "2. Click the \"Include Private Repos\" checkbox.\n",
        "3. In the popup window, sign-in to your Github account and authorize Colab to read the private files.\n",
        "4. Your private repositories and notebooks will now be available via the github navigation pane."
      ]
    },
    {
      "cell_type": "markdown",
      "metadata": {
        "id": "8J3NBxtZpPcK"
      },
      "source": [
        "## Saving Notebooks To GitHub or Drive\n",
        "\n",
        "Any time you open a GitHub hosted notebook in Colab, it opens a new editable view of the notebook. You can run and modify the notebook without worrying about overwriting the source.\n",
        "\n",
        "If you would like to save your changes from within Colab, you can use the File menu to save the modified notebook either to Google Drive or back to GitHub. Choose **File→Save a copy in Drive** or **File→Save a copy to GitHub** and follow the resulting prompts. To save a Colab notebook to GitHub requires giving Colab permission to push the commit to your repository."
      ]
    },
    {
      "cell_type": "markdown",
      "source": [
        "\n",
        "## Writing Tests for Your Code\n",
        "\n",
        "### Why Test Your Code?\n",
        "\n",
        "In engineering, every design must be checked and verified — calculations, drawings, and models all need to be correct. The same applies to programming. When we write code that performs calculations (e.g., bending moments, stresses, flow rates), mistakes can creep in. Tests are small pieces of code that automatically check whether your functions are producing the expected results.\n",
        "\n",
        "Testing helps you:\n",
        "\n",
        "* Catch errors early before they cause bigger problems.\n",
        "* Ensure your code keeps working after changes (regression testing).\n",
        "* Build confidence that your results are reliable — just like validating hand calculations.\n",
        "\n",
        "\n",
        "### Types of Tests\n",
        "\n",
        "1. **Manual tests** → You run a function and check the output yourself. Good for quick checks but not sustainable for larger projects.\n",
        "2. **Automated tests** → You write Python code that checks the results for you. These run instantly and can be repeated any time.\n",
        "\n",
        "\n",
        "Think of tests as the quality assurance (QA) process for your code. Just as you would not submit a design without checking calculations, you should not write software without testing it. Tests are a safety net that let you experiment with your code confidently.\n"
      ],
      "metadata": {
        "id": "3IFk97RhFDiQ"
      }
    },
    {
      "cell_type": "code",
      "execution_count": null,
      "metadata": {
        "id": "3VQqVi-3ScBC"
      },
      "outputs": [],
      "source": [
        "# Suppose you have a function to calculate stress in a column:\n",
        "\n",
        "def column_stress(P, b, d):\n",
        "    \"\"\"Stress = Load / Area\"\"\"\n",
        "    A = b * d\n",
        "    return P / A\n",
        "\n",
        "\n",
        "#We can write a test to check it:\n",
        "\n",
        "# Manual check\n",
        "print(column_stress(1000, 0.1, 0.2))  # Expected: 1000 / 0.02 = 50000\n",
        "\n",
        "# Or better we can use 'assert' to directly tell us if the answer is correct or not\n",
        "# Automated check using assert\n",
        "assert column_stress(1000, 0.1, 0.2) == 50000\n",
        "\n",
        "\n",
        "#If the function is correct, nothing happens. If it’s wrong, Python raises an error."
      ]
    },
    {
      "cell_type": "code",
      "source": [
        "# When working with decimals, small rounding errors can occur. In that case, use np.isclose:\n",
        "\n",
        "import numpy as np\n",
        "\n",
        "def beam_reaction(P):\n",
        "    \"\"\"Simply supported beam with midspan load.\"\"\"\n",
        "    return P/2, P/2\n",
        "\n",
        "RA, RB = beam_reaction(10)\n",
        "assert np.isclose(RA, 5.0)\n",
        "assert np.isclose(RB, 5.0)"
      ],
      "metadata": {
        "id": "GzFjCAaUAMNw"
      },
      "execution_count": null,
      "outputs": []
    },
    {
      "cell_type": "markdown",
      "source": [
        "### Using `unittest` or `pytest`\n",
        "\n",
        "For larger projects, Python provides testing frameworks:\n",
        "\n",
        "* `unittest` → Built into Python.\n",
        "* `pytest` → Popular and easy to use.\n",
        "\n",
        "A `pytest` test might look like this (in a file called `test_structures.py`):\n",
        "\n",
        "```python\n",
        "import numpy as np\n",
        "from structures import column_stress\n",
        "\n",
        "def test_column_stress():\n",
        "    assert np.isclose(column_stress(1000, 0.1, 0.2), 50000)\n",
        "```\n",
        "\n",
        "Then run all tests with:\n",
        "\n",
        "```\n",
        "pytest\n",
        "```"
      ],
      "metadata": {
        "id": "hDBVRCp4GR4w"
      }
    },
    {
      "cell_type": "markdown",
      "source": [
        "# YOUR TASK\n",
        "\n",
        "* Sign up for GitHub. You can use your gmail or university address\n",
        "\n",
        "* Create a repository for your code\n",
        "\n",
        "* Click 'create file' to create a README.md file for your repository. This will create a main branch for your code.\n",
        "\n",
        "* Link your github to colab (File -> save a copy in GitHub. It will then prompt you to grant access to your GitHub repositories.)\n",
        "\n",
        "* Save a copy of this notebook in Github to the main branch of your repository. Go back to GitHub to check that your notebook has been pushed.\n",
        "\n",
        "Great! You've now created your first GitHub repository!. Let's go over some of the basics now.\n",
        "\n",
        "* Make some edits to this notebook and then push yor changes to GitHub by saving the file again (File -> Save a copy in GitHub). Add a commit message describing what you have changed and then click OK. This pushed your changes to GitHub.\n",
        "\n",
        "* Go back to GitHub and see that your notebook has now updated. You should see that the datetime of the file has changed. You can also look at the commits you have made by clicking the clock/arrow icon above the files.\n",
        "\n",
        "That's pushing sorted. Now we need to learn how to pull. This is essentially loading in the version of the notebook that we have saved on GitHub.\n",
        "\n",
        "* Make some changes that you don't mind losing and DO NOT push them to GitHub.\n",
        "\n",
        "* Go to File -> Open Notebook ->\n",
        "\n"
      ],
      "metadata": {
        "id": "YI2R-LdpYVIV"
      }
    },
    {
      "cell_type": "code",
      "source": [],
      "metadata": {
        "id": "YlOHLT0CGBKn"
      },
      "execution_count": null,
      "outputs": []
    }
  ]
}